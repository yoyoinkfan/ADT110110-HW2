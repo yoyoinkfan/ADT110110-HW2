{
  "nbformat": 4,
  "nbformat_minor": 0,
  "metadata": {
    "colab": {
      "provenance": []
    },
    "kernelspec": {
      "name": "python3",
      "display_name": "Python 3"
    },
    "language_info": {
      "name": "python"
    }
  },
  "cells": [
    {
      "cell_type": "code",
      "execution_count": 10,
      "metadata": {
        "colab": {
          "base_uri": "https://localhost:8080/"
        },
        "id": "jEgfXFXyh4FK",
        "outputId": "7b0c406c-9719-409b-ad07-ca0fdb69e60b"
      },
      "outputs": [
        {
          "output_type": "stream",
          "name": "stdout",
          "text": [
            "\n",
            "每台兩金鑽條塊價錢\n",
            "銀行買進: 74813\n",
            "銀行賣出: 76977\n"
          ]
        }
      ],
      "source": [
        "import time\n",
        "import urllib.request as request\n",
        "from bs4 import BeautifulSoup as sp\n",
        "import requests\n",
        "\n",
        "local_time = time.ctime(time.time())\n",
        "url=\"https://rate.bot.com.tw/gold/quote/recent\" ###\n",
        "with request.urlopen(url) as response:\n",
        "  data=response.read().decode(\"utf-8\")\n",
        "  root=sp(data,\"html.parser\")\n",
        "  gold_in=(root.find_all(\"td\")[22].text.replace(\"回售\",\"\").strip()) ###\n",
        "  gold_out=(root.find_all(\"td\")[19].text.replace(\"買進\",\"\").strip()) ###\n",
        "  s1=(\"\\n每台兩金鑽條塊價錢\"+\"\\n銀行買進: \"+gold_in+\"\\n銀行賣出: \"+gold_out) ###\n",
        "  note=local_time+s1\n",
        "  print(s1)"
      ]
    }
  ]
}