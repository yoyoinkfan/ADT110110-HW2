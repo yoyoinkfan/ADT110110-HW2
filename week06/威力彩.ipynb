{
  "nbformat": 4,
  "nbformat_minor": 0,
  "metadata": {
    "colab": {
      "provenance": []
    },
    "kernelspec": {
      "name": "python3",
      "display_name": "Python 3"
    },
    "language_info": {
      "name": "python"
    }
  },
  "cells": [
    {
      "cell_type": "code",
      "execution_count": 2,
      "metadata": {
        "colab": {
          "base_uri": "https://localhost:8080/"
        },
        "id": "XFB9ulvwr48R",
        "outputId": "e1ae33e0-9df3-4f36-90fb-4afa1fd5f732"
      },
      "outputs": [
        {
          "output_type": "stream",
          "name": "stdout",
          "text": [
            "開出順序：25   20   31   07   32   05   \n",
            "大小順序：05   07   20   25   31   32   \n",
            "第二區：08 \n"
          ]
        }
      ],
      "source": [
        "import requests\n",
        "from bs4 import BeautifulSoup\n",
        "\n",
        "url = 'http://www.taiwanlottery.com.tw/'\n",
        "html = requests.get(url)\n",
        "sp = BeautifulSoup(html.text, 'html.parser')\n",
        "#print(sp.prettify())\n",
        "data1 = sp.select(\"#rightdown\")\n",
        "#print(data1)\n",
        "\n",
        "data2 = data1[0].find('div', {'class':'contents_box02'})\n",
        "#print(data2)\n",
        "\n",
        "data3 = data2.find_all('div', {'class':'ball_tx ball_green'})\n",
        "#print(data3)\n",
        "\n",
        "# 威力彩號碼\n",
        "print(\"開出順序：\",end=\"\")\n",
        "for n in range(0,6):\n",
        "    print(data3[n].text,end=\"  \")\n",
        "\n",
        "print(\"\\n大小順序：\",end=\"\")\n",
        "for n in range(6,len(data3)):\n",
        "    print(data3[n].text,end=\"  \")\n",
        "\n",
        "## 第二區\n",
        "red = data2.find('div', {'class':'ball_red'})\n",
        "print(\"\\n第二區：{}\".format(red.text))"
      ]
    }
  ]
}