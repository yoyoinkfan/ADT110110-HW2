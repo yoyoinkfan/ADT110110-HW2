{
  "nbformat": 4,
  "nbformat_minor": 0,
  "metadata": {
    "colab": {
      "provenance": []
    },
    "kernelspec": {
      "name": "python3",
      "display_name": "Python 3"
    },
    "language_info": {
      "name": "python"
    }
  },
  "cells": [
    {
      "cell_type": "code",
      "execution_count": 8,
      "metadata": {
        "colab": {
          "base_uri": "https://localhost:8080/"
        },
        "id": "b9mq4PSxp4HF",
        "outputId": "68f34b11-1c94-4119-f7df-d4595b0b6a21"
      },
      "outputs": [
        {
          "output_type": "stream",
          "name": "stdout",
          "text": [
            "標題：《特戰英豪》——由Riot Games出品，以角色 ...playvalorant.com › zh-tw\n",
            "網址：/url?q=https://playvalorant.com/zh-tw/&sa=U&ved=2ahUKEwjOv8yXif-BAxX8MVkFHYZEC1kQFnoECAMQAg&usg=AOvVaw3q5cmxSj5_PdSFgvopK9aF\n",
            "標題：VALORANT: Riot Games' competitive 5v5 character-based tactical ...playvalorant.com\n",
            "網址：/url?q=https://playvalorant.com/&sa=U&ved=2ahUKEwjOv8yXif-BAxX8MVkFHYZEC1kQFnoECAUQAg&usg=AOvVaw3yNj5h0e4oAAogSQdNbT4O\n",
            "標題：VALORANT 客戶服務support-valorant.riotgames.com › zh-tw\n",
            "網址：/url?q=https://support-valorant.riotgames.com/hc/zh-tw&sa=U&ved=2ahUKEwjOv8yXif-BAxX8MVkFHYZEC1kQFnoECAcQAg&usg=AOvVaw1GmFwVvRDUg2Yv_1EFRVNS\n",
            "標題：特戰英豪- 維基百科，自由的百科全書zh.wikipedia.org › zh-hant › 无畏契约\n",
            "網址：/url?q=https://zh.wikipedia.org/zh-hant/%25E6%2597%25A0%25E7%2595%258F%25E5%25A5%2591%25E7%25BA%25A6&sa=U&ved=2ahUKEwjOv8yXif-BAxX8MVkFHYZEC1kQFnoECAIQAg&usg=AOvVaw2eVvhklj6rbUUeVel71k4K\n",
            "標題：VALORANT - 特戰英豪(@valoranttw) • Instagram photos and videoswww.instagram.com › valoranttw\n",
            "網址：/url?q=https://www.instagram.com/valoranttw/&sa=U&ved=2ahUKEwjOv8yXif-BAxX8MVkFHYZEC1kQFnoECAAQAg&usg=AOvVaw3BhcumpteTikI7Sx9tuZOG\n",
            "標題：11月20日開始實施｜英雄聯盟｜特戰英豪 - YouTubewww.youtube.com › watch\n",
            "網址：/url?q=https://www.youtube.com/watch%3Fv%3Dl3V2n4rhyu4&sa=U&ved=2ahUKEwjOv8yXif-BAxX8MVkFHYZEC1kQtwJ6BAgJEAE&usg=AOvVaw31_m2pRdOQQw4YgJnQWd5r\n",
            "標題：\n",
            "網址：/url?q=https://www.youtube.com/watch%3Fv%3Dl3V2n4rhyu4&sa=U&ved=2ahUKEwjOv8yXif-BAxX8MVkFHYZEC1kQuAJ6BAgJEAI&usg=AOvVaw1GQFcIBkVqDb4WfoLE5PnX\n",
            "標題：VALORANT - Facebookwww.facebook.com › Pages › Other › Brand › Video Game › VALORANT\n",
            "網址：/url?q=https://www.facebook.com/VALORANTtw/&sa=U&ved=2ahUKEwjOv8yXif-BAxX8MVkFHYZEC1kQFnoECAEQAg&usg=AOvVaw3D-wyEwdDImtfvRYhcWbrw\n",
            "標題：特戰英豪哈啦板 - 巴哈姆特forum.gamer.com.tw › B.php\n",
            "網址：/url?q=https://forum.gamer.com.tw/B.php%3Fbsn%3D38093&sa=U&ved=2ahUKEwjOv8yXif-BAxX8MVkFHYZEC1kQFnoECAQQAg&usg=AOvVaw3GynqKo4iEi_QJWLLn9jJx\n"
          ]
        }
      ],
      "source": [
        "import requests\n",
        "from bs4 import BeautifulSoup\n",
        "\n",
        "# Google 搜尋 URL\n",
        "google_url = 'https://www.google.com.tw/search'\n",
        "\n",
        "# 查詢參數\n",
        "my_params = {'q': '特戰'}\n",
        "\n",
        "# 下載 Google 搜尋結果\n",
        "r = requests.get(google_url, params = my_params)\n",
        "\n",
        "# 確認是否下載成功\n",
        "if r.status_code == requests.codes.ok:\n",
        "  # 以 BeautifulSoup 解析 HTML 原始碼\n",
        "  soup = BeautifulSoup(r.text, 'html.parser')\n",
        "\n",
        "  # 觀察 HTML 原始碼\n",
        "  #print(soup.prettify())\n",
        "\n",
        "  # 以 CSS 的選擇器來抓取 Google 的搜尋結果\n",
        "  items = soup.select('div.kCrYT > a[href^=\"/url\"]')\n",
        "\n",
        "  for i in items:\n",
        "    # 標題\n",
        "    print(\"標題：\" + i.text)\n",
        "    # 網址\n",
        "    print(\"網址：\" + i.get('href'))"
      ]
    }
  ]
}